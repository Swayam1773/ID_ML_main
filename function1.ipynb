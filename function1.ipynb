{
 "cells": [
  {
   "cell_type": "code",
   "execution_count": 19,
   "metadata": {},
   "outputs": [],
   "source": [
    "import matplotlib.pyplot as plt \n",
    "import cv2\n",
    "from pylab import rcParams\n",
    "from IPython.display import Image\n",
    "import numpy as np\n",
    "import mediapipe as mp\n",
    "import argparse\n",
    "import imutils\n",
    "import math\n",
    "from PIL import Image\n",
    "import easyocr\n",
    "import pytesseract"
   ]
  },
  {
   "cell_type": "code",
   "execution_count": 20,
   "metadata": {},
   "outputs": [],
   "source": [
    "img1 = cv2.imread('id21.jpg')\n",
    "rcParams['figure.figsize']=8,16\n",
    "mp_face_detection = mp.solutions.face_detection\n",
    "face_detection = mp_face_detection.FaceDetection(model_selection=1, min_detection_confidence=0.5)\n",
    "mp_drawing = mp.solutions.drawing_utils "
   ]
  },
  {
   "cell_type": "code",
   "execution_count": 21,
   "metadata": {},
   "outputs": [],
   "source": [
    "def image_process1(img1):\n",
    "\n",
    "    img_height = img1.shape[0]\n",
    "    img_width = img1.shape[1] \n",
    "    face_detection_results = face_detection.process(img1[:,:,::-1])\n",
    "    if face_detection_results.detections:\n",
    "        for face_no, face in enumerate(face_detection_results.detections):\n",
    "            face_data = face.location_data\n",
    "\n",
    "    #Declaring the variables for Calculating Bounding Box manually(for the new image i.e. rotated)\n",
    "    \n",
    "    rxmin  = face_data.relative_bounding_box.xmin\n",
    "    rymin  = face_data.relative_bounding_box.ymin\n",
    "    rwidth  = face_data.relative_bounding_box.width\n",
    "    rheight  = face_data.relative_bounding_box.height\n",
    "    nor_width = rwidth*img_width\n",
    "    nor_height = rheight*img_height\n",
    "    box_width = 6.5*nor_width\n",
    "    box_height = 10.4*nor_height\n",
    "    nose_x = (face_data.relative_keypoints[2].x)*img_width\n",
    "    nose_y = (face_data.relative_keypoints[2].y)*img_height\n",
    "    ID_x = int((nose_x)-(box_width/2))\n",
    "    ID_y = int((nose_y)-(box_height*0.45))\n",
    "    rex = (face_data.relative_keypoints[0].x)\n",
    "    rey = (face_data.relative_keypoints[0].y)\n",
    "    lex = (face_data.relative_keypoints[1].x)\n",
    "    ley = (face_data.relative_keypoints[1].y)\n",
    "    #Declaring the Bounding Box(for the new image i.e. rotated)\n",
    "    start_point = (ID_x, ID_y)\n",
    "    end_point = (int(ID_x+box_width),int(ID_y+box_height))\n",
    "    color = (255, 255, 255)\n",
    "    thickness = 3\n",
    "    img_copy = img1[:,:,::-1].copy()\n",
    "    if face_detection_results.detections:\n",
    "        for face_no, face in enumerate(face_detection_results.detections):\n",
    "            mp_drawing.draw_detection(image=img_copy, detection=face, keypoint_drawing_spec=mp_drawing.DrawingSpec(color=(255, 0, 0),thickness=5,circle_radius=2))\n",
    "    # Plotting the image with bounding box\n",
    "                                                                                \n",
    "    image1 = cv2.rectangle(img_copy, start_point, end_point, color, thickness)\n",
    "    input_pts = np.float32([[ID_x,ID_y],[(ID_x+box_width),ID_y],\n",
    "                            [(ID_x+box_width),(ID_y+box_height)],[ID_x,(ID_y+box_height)]])\n",
    "    output_pts = np.float32([[0,0],[img_width,0],[img_width,img_height],[0,img_height]])\n",
    "    M = cv2.getPerspectiveTransform(input_pts,output_pts)\n",
    "    out = cv2.warpPerspective(image1,M,(image1.shape[1],image1.shape[0]))\n",
    "    \n",
    "    return out"
   ]
  },
  {
   "cell_type": "code",
   "execution_count": 22,
   "metadata": {},
   "outputs": [],
   "source": [
    "a_out = image_process1(img1)"
   ]
  },
  {
   "cell_type": "code",
   "execution_count": 23,
   "metadata": {},
   "outputs": [],
   "source": [
    "def contour1(img1,out):\n",
    "\n",
    "    img_height = img1.shape[0]\n",
    "    img_width = img1.shape[1] \n",
    "    face_detection_results = face_detection.process(img1[:,:,::-1])\n",
    "    if face_detection_results.detections:\n",
    "        for face_no, face in enumerate(face_detection_results.detections):\n",
    "            face_data = face.location_data\n",
    "\n",
    "    #Declaring the variables for Calculating Bounding Box manually(for the new image i.e. rotated)\n",
    "    \n",
    "    rxmin  = face_data.relative_bounding_box.xmin\n",
    "    rymin  = face_data.relative_bounding_box.ymin\n",
    "    rwidth  = face_data.relative_bounding_box.width\n",
    "    rheight  = face_data.relative_bounding_box.height\n",
    "    nor_width = rwidth*img_width\n",
    "    nor_height = rheight*img_height\n",
    "    box_width = 6.5*nor_width\n",
    "    box_height = 10.4*nor_height\n",
    "    nose_x = (face_data.relative_keypoints[2].x)*img_width\n",
    "    nose_y = (face_data.relative_keypoints[2].y)*img_height\n",
    "    ID_x = int((nose_x)-(box_width/2))\n",
    "    ID_y = int((nose_y)-(box_height*0.45))\n",
    "    rex = (face_data.relative_keypoints[0].x)\n",
    "    rey = (face_data.relative_keypoints[0].y)\n",
    "    lex = (face_data.relative_keypoints[1].x)\n",
    "    ley = (face_data.relative_keypoints[1].y)\n",
    "    #convert img to grey\n",
    "    img_grey = cv2.cvtColor(out,cv2.COLOR_BGR2GRAY)\n",
    "    #set a thresh\n",
    "    thresh = 128\n",
    "    #get threshold image\n",
    "    ret,thresh_img = cv2.threshold(img_grey, thresh, 255, cv2.THRESH_BINARY)\n",
    "    thresh_img = cv2.erode(thresh_img , None , iterations=2)\n",
    "    thresh_img = cv2.dilate(thresh_img , None , iterations=2)\n",
    "    #find contours\n",
    "    #plt.imshow(thresh_img , cmap='gray')\n",
    "    cnts, hierarchy = cv2.findContours(thresh_img, cv2.RETR_TREE, cv2.CHAIN_APPROX_NONE)\n",
    "    cnts = sorted(cnts, key=cv2.contourArea, reverse=True)\n",
    "    approx = (cv2.approxPolyDP(cnts[0],0.1*cv2.arcLength(cnts[0],True),True))\n",
    "    #create an empty image for contours\n",
    "    img_contours = np.zeros(img1.shape)\n",
    "    c = max(cnts, key=cv2.contourArea)\n",
    "    # Obtain outer coordinates\n",
    "    left = tuple(c[c[:, :, 0].argmin()][0])\n",
    "    right = tuple(c[c[:, :, 0].argmax()][0])\n",
    "    top = tuple(c[c[:, :, 1].argmin()][0])\n",
    "    bottom = tuple(c[c[:, :, 1].argmax()][0])\n",
    "    # Draw dots onto image\n",
    "    cv2.drawContours(out, [c], -1, (36, 255, 12), 2)\n",
    "    cv2.circle(out, left, 8, (0, 50, 255), -1)\n",
    "    cv2.circle(out, right, 8, (0, 255, 255), -1)\n",
    "    cv2.circle(out, top, 8, (255, 50, 0), -1)\n",
    "    cv2.circle(out, bottom, 8, (255, 255, 0), -1)\n",
    "\n",
    "    input_pts = np.float32([[ID_x,ID_y],[(ID_x+box_width),ID_y],[(ID_x+box_width),(ID_y+box_height)],[ID_x,(ID_y+box_height)]])\n",
    "    output_pts = np.float32([[0,0],[3000,0],[right[0],4000],[0,4000]])\n",
    "    M = cv2.getPerspectiveTransform(input_pts,output_pts)\n",
    "    # hi = cv2.warpPerspective(image1,M,(image1.shape[1],image1.shape[0]))\n",
    "    hi = cv2.warpPerspective(out,M,(out.shape[1],out.shape[0]))\n",
    "    return hi"
   ]
  },
  {
   "cell_type": "code",
   "execution_count": 24,
   "metadata": {},
   "outputs": [],
   "source": [
    "def get_data(out):\n",
    "    string1 = pytesseract.image_to_string(out)\n",
    "    def Convert(string):\n",
    "        li = list(string.split(\" \"))\n",
    "        return li\n",
    "    return Convert(string1)    "
   ]
  },
  {
   "cell_type": "code",
   "execution_count": 25,
   "metadata": {},
   "outputs": [
    {
     "name": "stdout",
     "output_type": "stream",
     "text": [
      "['', '\\n\\nom', 'i', '#\\nA\\nUTD,', '.\\n&', 'VIT\\n\\nEES', 'Vellore', 'Institute', 'of', 'Technology\\n(Deemed', 'to', 'be', 'Univesity', 'wader', 'section', '3', 'ofthe', 'UGC', 'Ae', '1984)\\n\\nVELLORE', 'CAMPUS', 'i\\n\\n=\\na\\n\\n', '\\n\\na', '|\\n\\nSuryakant', 'Agrawal\\n\\n20BBS0054', 's\\n\\n', '\\n\\n', '\\n\\n', '\\n\\x0c']\n"
     ]
    }
   ],
   "source": [
    "img_contour = contour1(img1,a_out)\n",
    "l = get_data(img_contour)\n",
    "if \"Vellore\" not in l:\n",
    "    print(get_data(a_out))\n",
    "else:\n",
    "    print(get_data(img_contour)) \n",
    "# get_data(a_out)\n"
   ]
  },
  {
   "cell_type": "code",
   "execution_count": null,
   "metadata": {},
   "outputs": [],
   "source": []
  },
  {
   "cell_type": "code",
   "execution_count": null,
   "metadata": {},
   "outputs": [],
   "source": []
  },
  {
   "cell_type": "code",
   "execution_count": null,
   "metadata": {},
   "outputs": [],
   "source": []
  }
 ],
 "metadata": {
  "kernelspec": {
   "display_name": "Python 3.8.5 64-bit",
   "language": "python",
   "name": "python3"
  },
  "language_info": {
   "codemirror_mode": {
    "name": "ipython",
    "version": 3
   },
   "file_extension": ".py",
   "mimetype": "text/x-python",
   "name": "python",
   "nbconvert_exporter": "python",
   "pygments_lexer": "ipython3",
   "version": "3.8.5"
  },
  "orig_nbformat": 4,
  "vscode": {
   "interpreter": {
    "hash": "b3e717d54d61a6bdef592ae6043c19c896004cb824af5b8184f33a04454abe91"
   }
  }
 },
 "nbformat": 4,
 "nbformat_minor": 2
}
